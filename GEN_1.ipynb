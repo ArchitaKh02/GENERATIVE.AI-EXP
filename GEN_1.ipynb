{
  "nbformat": 4,
  "nbformat_minor": 0,
  "metadata": {
    "colab": {
      "provenance": [],
      "authorship_tag": "ABX9TyOWUaJslwAUi632eXysu+wh",
      "include_colab_link": true
    },
    "kernelspec": {
      "name": "python3",
      "display_name": "Python 3"
    },
    "language_info": {
      "name": "python"
    }
  },
  "cells": [
    {
      "cell_type": "markdown",
      "metadata": {
        "id": "view-in-github",
        "colab_type": "text"
      },
      "source": [
        "<a href=\"https://colab.research.google.com/github/ArchitaKh02/GENERATIVE.AI-EXP/blob/main/GEN_1.ipynb\" target=\"_parent\"><img src=\"https://colab.research.google.com/assets/colab-badge.svg\" alt=\"Open In Colab\"/></a>"
      ]
    },
    {
      "cell_type": "code",
      "execution_count": 1,
      "metadata": {
        "colab": {
          "base_uri": "https://localhost:8080/"
        },
        "id": "q9zAvKxDPwD3",
        "outputId": "405e2e86-93f4-4e6c-abc5-8d90c1239169"
      },
      "outputs": [
        {
          "output_type": "stream",
          "name": "stdout",
          "text": [
            "Enter a number: 4\n",
            "The square root of 4.0 is 2.0\n"
          ]
        }
      ],
      "source": [
        "import math\n",
        "\n",
        "num = float(input(\"Enter a number: \"))\n",
        "\n",
        "\n",
        "if num >= 0:\n",
        "  sqrt_num = math.sqrt(num)\n",
        "  print(f\"The square root of {num} is {sqrt_num}\")\n",
        "else:\n",
        "  print(\"Cannot calculate the square root of a negative number\")"
      ]
    },
    {
      "cell_type": "code",
      "source": [
        "\n",
        "a = input(\"Enter the first value (a): \")\n",
        "b = input(\"Enter the second value (b): \")\n",
        "\n",
        "print(\"\\nBefore swapping:\")\n",
        "print(\"a =\", a)\n",
        "print(\"b =\", b)\n",
        "\n",
        "\n",
        "a, b = b, a\n",
        "\n",
        "print(\"\\nAfter swapping:\")\n",
        "print(\"a =\", a)\n",
        "print(\"b =\", b)"
      ],
      "metadata": {
        "colab": {
          "base_uri": "https://localhost:8080/"
        },
        "id": "sqMJ63BTP5Mn",
        "outputId": "f971675d-1365-43c4-afc8-78b95d789f23"
      },
      "execution_count": 2,
      "outputs": [
        {
          "output_type": "stream",
          "name": "stdout",
          "text": [
            "Enter the first value (a): 4\n",
            "Enter the second value (b): 6\n",
            "\n",
            "Before swapping:\n",
            "a = 4\n",
            "b = 6\n",
            "\n",
            "After swapping:\n",
            "a = 6\n",
            "b = 4\n"
          ]
        }
      ]
    },
    {
      "cell_type": "code",
      "source": [
        "\n",
        "num = int(input(\"Enter an integer: \"))\n",
        "\n",
        "\n",
        "if num > 0:\n",
        "    print(\"The number is positive.\")\n",
        "elif num < 0:\n",
        "    print(\"The number is negative.\")\n",
        "else:\n",
        "    print(\"The number is zero.\")"
      ],
      "metadata": {
        "colab": {
          "base_uri": "https://localhost:8080/"
        },
        "id": "IJpJDX6GP-n3",
        "outputId": "bd5ec26a-29df-4552-8e7c-703a2388b55b"
      },
      "execution_count": 3,
      "outputs": [
        {
          "output_type": "stream",
          "name": "stdout",
          "text": [
            "Enter an integer: 4\n",
            "The number is positive.\n"
          ]
        }
      ]
    },
    {
      "cell_type": "code",
      "source": [
        "n=int(input())\n",
        "\n",
        "if n%2==0:\n",
        "  print(\"Even:\",n)\n",
        "else:\n",
        "  print(\"Odd:\",n)"
      ],
      "metadata": {
        "colab": {
          "base_uri": "https://localhost:8080/"
        },
        "id": "5U6kk508P_-G",
        "outputId": "9e02422e-24f3-4823-e518-cfccfc9e2824"
      },
      "execution_count": 4,
      "outputs": [
        {
          "output_type": "stream",
          "name": "stdout",
          "text": [
            "5\n",
            "Odd: 5\n"
          ]
        }
      ]
    },
    {
      "cell_type": "code",
      "source": [
        "num = int(input(\"Enter a number to find its factorial: \"))\n",
        "\n",
        "\n",
        "if num < 0:\n",
        "    print(\"Factorial is not defined for negative numbers.\")\n",
        "elif num == 0 or num == 1:\n",
        "    print(\"The factorial of\", num, \"is 1.\")\n",
        "else:\n",
        "    factorial = 1\n",
        "    for i in range(2, num + 1):\n",
        "        factorial *= i\n",
        "    print(\"The factorial of\", num, \"is\", factorial)"
      ],
      "metadata": {
        "colab": {
          "base_uri": "https://localhost:8080/"
        },
        "id": "U6ne13ktQGU4",
        "outputId": "0887741e-a814-430f-9403-4a8e66d20385"
      },
      "execution_count": 5,
      "outputs": [
        {
          "output_type": "stream",
          "name": "stdout",
          "text": [
            "Enter a number to find its factorial: 5\n",
            "The factorial of 5 is 120\n"
          ]
        }
      ]
    },
    {
      "cell_type": "code",
      "source": [
        "import pandas as pd\n",
        "\n",
        "\n",
        "data = {\n",
        "    'name': ['Alice', 'Bob', 'Charlie', 'David'],\n",
        "    'age': [22, 25, 30, 19],\n",
        "    'city': ['New York', 'Los Angeles', 'Chicago', 'Houston']\n",
        "}\n",
        "\n",
        "df = pd.DataFrame(data)\n",
        "\n",
        "print(\"Age attribute:\")\n",
        "print(df['age'])\n",
        "\n",
        "print(\"\\nPeople with age 25 or above:\")\n",
        "print(df[df['age'] >= 25])"
      ],
      "metadata": {
        "colab": {
          "base_uri": "https://localhost:8080/"
        },
        "id": "Qt7OSjSPQNuz",
        "outputId": "0cd898bd-1017-4cb0-c712-6c245b44cb94"
      },
      "execution_count": 6,
      "outputs": [
        {
          "output_type": "stream",
          "name": "stdout",
          "text": [
            "Age attribute:\n",
            "0    22\n",
            "1    25\n",
            "2    30\n",
            "3    19\n",
            "Name: age, dtype: int64\n",
            "\n",
            "People with age 25 or above:\n",
            "      name  age         city\n",
            "1      Bob   25  Los Angeles\n",
            "2  Charlie   30      Chicago\n"
          ]
        }
      ]
    }
  ]
}